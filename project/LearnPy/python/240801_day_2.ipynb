{
 "cells": [
  {
   "cell_type": "markdown",
   "metadata": {},
   "source": [
    "# format 함수\n",
    "- 문자열 자료형(클래스)에 사용할 수 있는 함수\n",
    "- "
   ]
  },
  {
   "cell_type": "code",
   "execution_count": 3,
   "metadata": {},
   "outputs": [
    {
     "name": "stdout",
     "output_type": "stream",
     "text": [
      "data1: 10\n",
      "data2: 3.14\n",
      "data3: A\n",
      "data4: ABC\n"
     ]
    }
   ],
   "source": [
    "data1 = 10\n",
    "data2 = 3.14\n",
    "data3 = 'A'\n",
    "data4 = \"ABC\"\n",
    "\n",
    "print(\"data1: {}\".format(data1))\n",
    "print(\"data2: {}\".format(data2))\n",
    "print(\"data3: {}\\ndata4: {}\".format(data3, data4))"
   ]
  },
  {
   "cell_type": "markdown",
   "metadata": {},
   "source": [
    "# 형 변환\n",
    "- 정수 + 실수 = 실수 (자동)\n",
    "- 자료형(값) = 강제 형변환"
   ]
  },
  {
   "cell_type": "code",
   "execution_count": 4,
   "metadata": {},
   "outputs": [
    {
     "name": "stdout",
     "output_type": "stream",
     "text": [
      "13.14\n",
      "13\n"
     ]
    }
   ],
   "source": [
    "print(10 + 3.14)\n",
    "print(10 + int(3.14))"
   ]
  },
  {
   "cell_type": "markdown",
   "metadata": {},
   "source": [
    "# 아스키코드, 암호화와 복호화\n",
    "암호화: Encryption\n",
    "\n",
    "문자의 형변환 함수\n",
    "- chr(정수): 정수를 문자로\n",
    "- ord(문자): 문자를 정수로"
   ]
  },
  {
   "cell_type": "code",
   "execution_count": 7,
   "metadata": {},
   "outputs": [
    {
     "name": "stdout",
     "output_type": "stream",
     "text": [
      "A\n",
      "ɉ\n",
      "기존 비밀번호: q1w2e3r4\n",
      "암호화된 비밀번호: ϹƹЯǂ΍ǋЂǔ\n"
     ]
    }
   ],
   "source": [
    "print(\"%c\" %65)\n",
    "# print(\"%d\" %'A') # 에러\n",
    "\n",
    "# 암호화 예제\n",
    "print(chr(ord('A') * 9))\n",
    "\n",
    "pw = \"q1w2e3r4\"\n",
    "en_pw = \"\"\n",
    "for i in pw:\n",
    "    en_pw += chr(ord(i) * 9)\n",
    "\n",
    "print(\"기존 비밀번호: %s\" %pw)\n",
    "print(\"암호화된 비밀번호: {pw}\".format(pw=en_pw))"
   ]
  },
  {
   "cell_type": "code",
   "execution_count": 8,
   "metadata": {},
   "outputs": [
    {
     "name": "stdout",
     "output_type": "stream",
     "text": [
      "암호화 해제된 비밀번호: q1w2e3r4\n"
     ]
    }
   ],
   "source": [
    "# 복호화 예제\n",
    "de_pw = \"\"\n",
    "\n",
    "for i in en_pw:\n",
    "    de_pw += chr(ord(i) // 9) # // : 몫 연산자\n",
    "\n",
    "print(\"암호화 해제된 비밀번호: {pw}\".format(pw=de_pw))"
   ]
  },
  {
   "cell_type": "code",
   "execution_count": 13,
   "metadata": {},
   "outputs": [
    {
     "name": "stdout",
     "output_type": "stream",
     "text": [
      "현재 비밀번호: q1w2e3r4\n",
      "암호화 후: ŔŦİŗ\n"
     ]
    }
   ],
   "source": [
    "# 입력 함수: input(\"출력할 메시지\")\n",
    "\n",
    "inputData = input(\"비밀번호: \")\n",
    "temp = \"\"\n",
    "for i in inputData:\n",
    "    temp += chr(ord(i) * 3 + 1)\n",
    "print(\"현재 비밀번호: {pw}\\n암호화 후: {en_pw}\".format(pw = inputData, en_pw = temp))"
   ]
  }
 ],
 "metadata": {
  "kernelspec": {
   "display_name": ".venv",
   "language": "python",
   "name": "python3"
  },
  "language_info": {
   "codemirror_mode": {
    "name": "ipython",
    "version": 3
   },
   "file_extension": ".py",
   "mimetype": "text/x-python",
   "name": "python",
   "nbconvert_exporter": "python",
   "pygments_lexer": "ipython3",
   "version": "3.9.9"
  }
 },
 "nbformat": 4,
 "nbformat_minor": 2
}
