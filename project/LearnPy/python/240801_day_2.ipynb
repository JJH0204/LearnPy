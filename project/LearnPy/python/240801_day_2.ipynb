{
 "cells": [
  {
   "cell_type": "markdown",
   "metadata": {},
   "source": [
    "# format 함수\n",
    "- 문자열 자료형(클래스)에 사용할 수 있는 함수\n",
    "- "
   ]
  },
  {
   "cell_type": "code",
   "execution_count": 3,
   "metadata": {},
   "outputs": [
    {
     "name": "stdout",
     "output_type": "stream",
     "text": [
      "data1: 10\n",
      "data2: 3.14\n",
      "data3: A\n",
      "data4: ABC\n"
     ]
    }
   ],
   "source": [
    "data1 = 10\n",
    "data2 = 3.14\n",
    "data3 = 'A'\n",
    "data4 = \"ABC\"\n",
    "\n",
    "print(\"data1: {}\".format(data1))\n",
    "print(\"data2: {}\".format(data2))\n",
    "print(\"data3: {}\\ndata4: {}\".format(data3, data4))"
   ]
  },
  {
   "cell_type": "markdown",
   "metadata": {},
   "source": [
    "# 형 변환\n",
    "- 정수 + 실수 = 실수 (자동)\n",
    "- 자료형(값) = 강제 형변환"
   ]
  },
  {
   "cell_type": "code",
   "execution_count": 4,
   "metadata": {},
   "outputs": [
    {
     "name": "stdout",
     "output_type": "stream",
     "text": [
      "13.14\n",
      "13\n"
     ]
    }
   ],
   "source": [
    "print(10 + 3.14)\n",
    "print(10 + int(3.14))"
   ]
  }
 ],
 "metadata": {
  "kernelspec": {
   "display_name": ".venv",
   "language": "python",
   "name": "python3"
  },
  "language_info": {
   "codemirror_mode": {
    "name": "ipython",
    "version": 3
   },
   "file_extension": ".py",
   "mimetype": "text/x-python",
   "name": "python",
   "nbconvert_exporter": "python",
   "pygments_lexer": "ipython3",
   "version": "3.9.9"
  }
 },
 "nbformat": 4,
 "nbformat_minor": 2
}
