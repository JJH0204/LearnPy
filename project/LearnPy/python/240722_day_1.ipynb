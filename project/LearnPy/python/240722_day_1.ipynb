{
 "cells": [
  {
   "cell_type": "markdown",
   "metadata": {},
   "source": [
    "# 파이썬의 특징\n",
    "1. 플랫폼에 독립적이다.\n",
    "   - OS에 영향을 덜 받는다.\n",
    "   - PVM을 통해서 다양한 플렛폼에 프로그램을 적용할 수 있다.\n",
    "2. 객체지향 언어이다.\n",
    "   - 반복되는 소스코드를 하나로 묶어서 관리하기 쉽게 만든 언어"
   ]
  },
  {
   "cell_type": "code",
   "execution_count": 7,
   "metadata": {},
   "outputs": [
    {
     "name": "stdout",
     "output_type": "stream",
     "text": [
      "jaeho\n"
     ]
    }
   ],
   "source": [
    "print(\"jaeho\")"
   ]
  },
  {
   "cell_type": "code",
   "execution_count": 8,
   "metadata": {},
   "outputs": [],
   "source": [
    "# 주석"
   ]
  },
  {
   "cell_type": "markdown",
   "metadata": {},
   "source": [
    "### 셀 구분\n",
    "주피터 노트북을 사용할 경우 셀 단위로 코드를 실행하는 것이 UI를 활용해 쉽게 가능하다.  \n",
    "py 파일에서 셀을 설정해 셀 단위로 코드를 실행하기 위해서는 아래 방법을 사용해야 한다."
   ]
  },
  {
   "cell_type": "code",
   "execution_count": 9,
   "metadata": {},
   "outputs": [
    {
     "name": "stdout",
     "output_type": "stream",
     "text": [
      "1\n",
      "2\n",
      "3\n",
      "4\n",
      "5\n",
      "6\n"
     ]
    }
   ],
   "source": [
    "#%% (1) first cell\n",
    "print(1)\n",
    "print(2)\n",
    "print(3)\n",
    "#%% (2) second cell\n",
    "print(4)\n",
    "print(5)\n",
    "print(6)"
   ]
  },
  {
   "cell_type": "code",
   "execution_count": 10,
   "metadata": {},
   "outputs": [
    {
     "name": "stdout",
     "output_type": "stream",
     "text": [
      "정재호\n"
     ]
    }
   ],
   "source": [
    "#변수\n",
    "name = \"정재호\"\n",
    "print(name)"
   ]
  },
  {
   "cell_type": "markdown",
   "metadata": {},
   "source": [
    "파이썬에서는 변수 선언/정의 할 때 자료형을 고려할 필요가 없다.  \n",
    "저장하는 변수에 따라 자동으로 결정된다.  \n",
    "사용가능한 자료형  \n",
    "|자료형|type|\n",
    "|:--|:--|\n",
    "|정수형|int|\n",
    "|실수형|float|\n",
    "|문자열|str|\n",
    "|논리형|bool|"
   ]
  },
  {
   "cell_type": "code",
   "execution_count": 13,
   "metadata": {},
   "outputs": [
    {
     "name": "stdout",
     "output_type": "stream",
     "text": [
      "10\n",
      "<class 'int'>\n",
      "10.5\n",
      "<class 'float'>\n",
      "<class 'str'>\n"
     ]
    }
   ],
   "source": [
    "iNum = 10\n",
    "print(iNum)\n",
    "print(type(iNum))   # type() 메서드는 인자로 전달받은 변수(또는 상수)의 자료형(타입)을 문자열로 반환한다.\n",
    "\n",
    "iNum = 10.5         # 저장하려는 값에 의해 자동으로 형 변환이 이뤄졌다.\n",
    "print(iNum)\n",
    "print(type(iNum))   # 변수 이름으로 사용성(역할)을 정의한 경우 데이터 타입이 바뀔만한 값 대입을 가급적 하지 않는 것이 좋다.\n",
    "\n",
    "nameStr = '정재호'   # 큰따옴표(\"), 작은따옴표(')의 차이는 파이썬에서 의미가 없다.\n",
    "print(type(nameStr))"
   ]
  },
  {
   "cell_type": "code",
   "execution_count": 21,
   "metadata": {},
   "outputs": [
    {
     "name": "stdout",
     "output_type": "stream",
     "text": [
      "자기소개\n",
      "이름: 정재호\n",
      "나이: 25세\n"
     ]
    }
   ],
   "source": [
    "age = 25\n",
    "print(\"자기소개\")   # 자동으로 문자열 마지막에 \\n 포함\n",
    "print(\"이름: %s\" %nameStr, end='') # 자동으로 문자열 마지막에 \\n이 포함되지 않도록 end= 로 설정\n",
    "print(\"\\n나이: %d세\" %age) # \\n을 사용해 문자열 안에서 줄바꿈 시도\n",
    "# 그 외 제어 문자: \\t, \\\\, \\', \\\"\n",
    "# 서식 문자 %s, %d, %f %c 등등 출력하려는 변수 타입에 따라 골라주면 된다."
   ]
  }
 ],
 "metadata": {
  "kernelspec": {
   "display_name": ".venv_Learn",
   "language": "python",
   "name": "python3"
  },
  "language_info": {
   "codemirror_mode": {
    "name": "ipython",
    "version": 3
   },
   "file_extension": ".py",
   "mimetype": "text/x-python",
   "name": "python",
   "nbconvert_exporter": "python",
   "pygments_lexer": "ipython3",
   "version": "3.9.9"
  }
 },
 "nbformat": 4,
 "nbformat_minor": 2
}
